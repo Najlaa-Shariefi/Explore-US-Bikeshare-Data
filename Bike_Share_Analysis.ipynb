{
 "cells": [
  {
   "cell_type": "markdown",
   "metadata": {},
   "source": [
    "# 2016 US Bike Share Activity Snapshot\n",
    "\n",
    "## Table of Contents\n",
    "- [Introduction](#intro)\n",
    "- [Posing Questions](#pose_questions)\n",
    "- [Data Collection and Wrangling](#wrangling)\n",
    "  - [Condensing the Trip Data](#condensing)\n",
    "- [Exploratory Data Analysis](#eda)\n",
    "  - [Statistics](#statistics)\n",
    "  - [Visualizations](#visualizations)\n",
    "- [Performing Your Own Analysis](#eda_continued)\n",
    "- [Conclusions](#conclusions)\n",
    "\n",
    "<a id='intro'></a>\n",
    "## Introduction\n",
    "\n",
    "> **Tip**: Quoted sections like this will provide helpful instructions on how to navigate and use a Jupyter notebook.\n",
    "\n",
    "Over the past decade, bicycle-sharing systems have been growing in number and popularity in cities across the world. Bicycle-sharing systems allow users to rent bicycles for short trips, typically 30 minutes or less. Thanks to the rise in information technologies, it is easy for a user of the system to access a dock within the system to unlock or return bicycles. These technologies also provide a wealth of data that can be used to explore how these bike-sharing systems are used.\n",
    "\n",
    "In this project, you will perform an exploratory analysis on data provided by [Motivate](https://www.motivateco.com/), a bike-share system provider for many major cities in the United States. You will compare the system usage between three large cities: New York City, Chicago, and Washington, DC. You will also see if there are any differences within each system for those users that are registered, regular users and those users that are short-term, casual users."
   ]
  },
  {
   "cell_type": "markdown",
   "metadata": {},
   "source": [
    "<a id='pose_questions'></a>\n",
    "## Posing Questions\n",
    "\n",
    "Before looking at the bike sharing data, you should start by asking questions you might want to understand about the bike share data. Consider, for example, if you were working for Motivate. What kinds of information would you want to know about in order to make smarter business decisions? If you were a user of the bike-share service, what factors might influence how you would want to use the service?\n",
    "\n",
    "**Question 1**: Write at least two questions related to bike sharing that you think could be answered by data.\n",
    "\n",
    "**Answer**: 1- How does ridership differ by day of the week\\time of the day ? Which day of the week\\time of the day has the highest ridership? \n",
    "            2- Does the average duration of rides change depending on the type of users (Subscribers and Customers) ?\n",
    "            3- Is there a difference in usage patterns for Subscribers in New York City, Chicago, and Washington, DC?\n",
    "\n",
    "> **Tip**: If you double click on this cell, you will see the text change so that all of the formatting is removed. This allows you to edit this block of text. This block of text is written using [Markdown](http://daringfireball.net/projects/markdown/syntax), which is a way to format text using headers, links, italics, and many other options using a plain-text syntax. You will also use Markdown later in the Nanodegree program. Use **Shift** + **Enter** or **Shift** + **Return** to run the cell and show its rendered form."
   ]
  },
  {
   "cell_type": "markdown",
   "metadata": {},
   "source": [
    "<a id='wrangling'></a>\n",
    "## Data Collection and Wrangling\n",
    "\n",
    "Now it's time to collect and explore our data. In this project, we will focus on the record of individual trips taken in 2016 from our selected cities: New York City, Chicago, and Washington, DC. Each of these cities has a page where we can freely download the trip data.:\n",
    "\n",
    "- New York City (Citi Bike): [Link](https://www.citibikenyc.com/system-data)\n",
    "- Chicago (Divvy): [Link](https://www.divvybikes.com/system-data)\n",
    "- Washington, DC (Capital Bikeshare): [Link](https://www.capitalbikeshare.com/system-data)\n",
    "\n",
    "If you visit these pages, you will notice that each city has a different way of delivering its data. Chicago updates with new data twice a year, Washington DC is quarterly, and New York City is monthly. **However, you do not need to download the data yourself.** The data has already been collected for you in the `/data/` folder of the project files. While the original data for 2016 is spread among multiple files for each city, the files in the `/data/` folder collect all of the trip data for the year into one file per city. Some data wrangling of inconsistencies in timestamp format within each city has already been performed for you. In addition, a random 2% sample of the original data is taken to make the exploration more manageable. \n",
    "\n",
    "**Question 2**: However, there is still a lot of data for us to investigate, so it's a good idea to start off by looking at one entry from each of the cities we're going to analyze. Run the first code cell below to load some packages and functions that you'll be using in your analysis. Then, complete the second code cell to print out the first trip recorded from each of the cities (the second line of each data file).\n",
    "\n",
    "> **Tip**: You can run a code cell like you formatted Markdown cells above by clicking on the cell and using the keyboard shortcut **Shift** + **Enter** or **Shift** + **Return**. Alternatively, a code cell can be executed using the **Play** button in the toolbar after selecting it. While the cell is running, you will see an asterisk in the message to the left of the cell, i.e. `In [*]:`. The asterisk will change into a number to show that execution has completed, e.g. `In [1]`. If there is output, it will show up as `Out [1]:`, with an appropriate number to match the \"In\" number."
   ]
  },
  {
   "cell_type": "code",
   "execution_count": 1,
   "metadata": {},
   "outputs": [],
   "source": [
    "## import all necessary packages and functions.\n",
    "import csv # read and write csv files\n",
    "from datetime import datetime # operations to parse dates\n",
    "from pprint import pprint # use to print data structures like dictionaries in\n",
    "                          # a nicer way than the base print function.\n",
    "import numpy as np"
   ]
  },
  {
   "cell_type": "code",
   "execution_count": 2,
   "metadata": {},
   "outputs": [
    {
     "name": "stdout",
     "output_type": "stream",
     "text": [
      "\n",
      "City: NYC\n",
      "OrderedDict([('tripduration', '839'),\n",
      "             ('starttime', '1/1/2016 00:09:55'),\n",
      "             ('stoptime', '1/1/2016 00:23:54'),\n",
      "             ('start station id', '532'),\n",
      "             ('start station name', 'S 5 Pl & S 4 St'),\n",
      "             ('start station latitude', '40.710451'),\n",
      "             ('start station longitude', '-73.960876'),\n",
      "             ('end station id', '401'),\n",
      "             ('end station name', 'Allen St & Rivington St'),\n",
      "             ('end station latitude', '40.72019576'),\n",
      "             ('end station longitude', '-73.98997825'),\n",
      "             ('bikeid', '17109'),\n",
      "             ('usertype', 'Customer'),\n",
      "             ('birth year', ''),\n",
      "             ('gender', '0')])\n",
      "\n",
      "City: Chicago\n",
      "OrderedDict([('trip_id', '9080545'),\n",
      "             ('starttime', '3/31/2016 23:30'),\n",
      "             ('stoptime', '3/31/2016 23:46'),\n",
      "             ('bikeid', '2295'),\n",
      "             ('tripduration', '926'),\n",
      "             ('from_station_id', '156'),\n",
      "             ('from_station_name', 'Clark St & Wellington Ave'),\n",
      "             ('to_station_id', '166'),\n",
      "             ('to_station_name', 'Ashland Ave & Wrightwood Ave'),\n",
      "             ('usertype', 'Subscriber'),\n",
      "             ('gender', 'Male'),\n",
      "             ('birthyear', '1990')])\n",
      "\n",
      "City: Washington\n",
      "OrderedDict([('Duration (ms)', '427387'),\n",
      "             ('Start date', '3/31/2016 22:57'),\n",
      "             ('End date', '3/31/2016 23:04'),\n",
      "             ('Start station number', '31602'),\n",
      "             ('Start station', 'Park Rd & Holmead Pl NW'),\n",
      "             ('End station number', '31207'),\n",
      "             ('End station', 'Georgia Ave and Fairmont St NW'),\n",
      "             ('Bike number', 'W20842'),\n",
      "             ('Member Type', 'Registered')])\n"
     ]
    }
   ],
   "source": [
    "def print_first_point(filename):\n",
    "    \"\"\"\n",
    "    This function prints and returns the first data point (second row) from\n",
    "    a csv file that includes a header row.\n",
    "    \"\"\"\n",
    "    # print city name for reference\n",
    "    city = filename.split('-')[0].split('/')[-1]\n",
    "    print('\\nCity: {}'.format(city))\n",
    "    \n",
    "    with open(filename, 'r') as f_in:\n",
    "        ## TODO: Use the csv library to set up a DictReader object. ##\n",
    "        ## see https://docs.python.org/3/library/csv.html           ##\n",
    "        trip_reader = csv.DictReader(f_in)\n",
    "       \n",
    "        \n",
    "        ## TODO: Use a function on the DictReader object to read the     ##\n",
    "        ## first trip from the data file and store it in a variable.     ##\n",
    "        ## see  '' https://docs.python.org/3/library/csv.html#reader-objects ##\n",
    "        first_trip=next(trip_reader)\n",
    "       \n",
    "        \n",
    "        ## TODO: Use the pprint library to print the first trip. ##\n",
    "        ## see https://docs.python.org/3/library/pprint.html     ##\n",
    "        pprint(first_trip)\n",
    "        \n",
    "    # output city name and first trip for later testing\n",
    "    return (city, first_trip)\n",
    "\n",
    "# list of files for each city\n",
    "data_files = ['./data/NYC-CitiBike-2016.csv',\n",
    "              './data/Chicago-Divvy-2016.csv',\n",
    "              './data/Washington-CapitalBikeshare-2016.csv',]\n",
    "\n",
    "# print the first trip from each file, store in dictionary\n",
    "example_trips = {}\n",
    "for data_file in data_files:\n",
    "    city, first_trip = print_first_point(data_file)\n",
    "    example_trips[city] = first_trip"
   ]
  },
  {
   "cell_type": "markdown",
   "metadata": {},
   "source": [
    "If everything has been filled out correctly, you should see below the printout of each city name (which has been parsed from the data file name) that the first trip has been parsed in the form of a dictionary. When you set up a `DictReader` object, the first row of the data file is normally interpreted as column names. Every other row in the data file will use those column names as keys, as a dictionary is generated for each row.\n",
    "\n",
    "This will be useful since we can refer to quantities by an easily-understandable label instead of just a numeric index. For example, if we have a trip stored in the variable `row`, then we would rather get the trip duration from `row['duration']` instead of `row[0]`.\n",
    "\n",
    "<a id='condensing'></a>\n",
    "### Condensing the Trip Data\n",
    "\n",
    "It should also be observable from the above printout that each city provides different information. Even where the information is the same, the column names and formats are sometimes different. To make things as simple as possible when we get to the actual exploration, we should trim and clean the data. Cleaning the data makes sure that the data formats across the cities are consistent, while trimming focuses only on the parts of the data we are most interested in to make the exploration easier to work with.\n",
    "\n",
    "You will generate new data files with five values of interest for each trip: trip duration, starting month, starting hour, day of the week, and user type. Each of these may require additional wrangling depending on the city:\n",
    "\n",
    "- **Duration**: This has been given to us in seconds (New York, Chicago) or milliseconds (Washington). A more natural unit of analysis will be if all the trip durations are given in terms of minutes.\n",
    "- **Month**, **Hour**, **Day of Week**: Ridership volume is likely to change based on the season, time of day, and whether it is a weekday or weekend. Use the start time of the trip to obtain these values. The New York City data includes the seconds in their timestamps, while Washington and Chicago do not. The [`datetime`](https://docs.python.org/3/library/datetime.html) package will be very useful here to make the needed conversions.\n",
    "- **User Type**: It is possible that users who are subscribed to a bike-share system will have different patterns of use compared to users who only have temporary passes. Washington divides its users into two types: 'Registered' for users with annual, monthly, and other longer-term subscriptions, and 'Casual', for users with 24-hour, 3-day, and other short-term passes. The New York and Chicago data uses 'Subscriber' and 'Customer' for these groups, respectively. For consistency, you will convert the Washington labels to match the other two.\n",
    "\n",
    "\n",
    "**Question 3a**: Complete the helper functions in the code cells below to address each of the cleaning tasks described above."
   ]
  },
  {
   "cell_type": "code",
   "execution_count": 3,
   "metadata": {},
   "outputs": [],
   "source": [
    "def duration_in_mins(datum, city):\n",
    "    \"\"\"\n",
    "    Takes as input a dictionary containing info about a single trip (datum) and\n",
    "    its origin city (city) and returns the trip duration in units of minutes.\n",
    "    \n",
    "    Remember that Washington is in terms of milliseconds while Chicago and NYC\n",
    "    are in terms of seconds. \n",
    "    \n",
    "    HINT: The csv module reads in all of the data as strings, including numeric\n",
    "    values. You will need a function to convert the strings into an appropriate\n",
    "    numeric type when making your transformations.\n",
    "    see https://docs.python.org/3/library/functions.html\n",
    "    \"\"\"\n",
    "    \n",
    "    # YOUR CODE HERE\n",
    "    if city == 'NYC':\n",
    "        duration = float (datum['tripduration'])/60\n",
    "    elif city == 'Chicago':\n",
    "        duration = float (datum['tripduration'])/60\n",
    "    else:\n",
    "        duration =float (datum['Duration (ms)'])/60000\n",
    "    return duration\n",
    "\n",
    "\n",
    "# Some tests to check that your code works. There should be no output if all of\n",
    "# the assertions pass. The `example_trips` dictionary was obtained from when\n",
    "# you printed the first trip from each of the original data files.\n",
    "tests = {'NYC': 13.9833,\n",
    "         'Chicago': 15.4333,\n",
    "         'Washington': 7.1231}\n",
    "\n",
    "for city in tests:\n",
    "    assert abs(duration_in_mins(example_trips[city], city) - tests[city]) < .001"
   ]
  },
  {
   "cell_type": "code",
   "execution_count": 4,
   "metadata": {},
   "outputs": [],
   "source": [
    "def time_of_trip(datum, city):\n",
    "    \"\"\"\n",
    "    Takes as input a dictionary containing info about a single trip (datum) and\n",
    "    its origin city (city) and returns the month, hour, and day of the week in\n",
    "    which the trip was made.\n",
    "    \n",
    "    Remember that NYC includes seconds, while Washington and Chicago do not.\n",
    "    \n",
    "    HINT: You should use the datetime module to parse the original date\n",
    "    strings into a format that is useful for extracting the desired information.\n",
    "    see https://docs.python.org/3/library/datetime.html#strftime-and-strptime-behavior\n",
    "    \"\"\"\n",
    "    \n",
    "    # YOUR CODE HERE\n",
    "    if city == 'NYC':\n",
    "        datetime_object = datetime.strptime((datum['starttime']),'%m/%d/%Y %H:%M:%S')\n",
    "        month = int(datetime_object.strftime('%m'))\n",
    "        hour = int(datetime_object.strftime('%H'))\n",
    "        day_of_week = (datetime_object.strftime('%A'))\n",
    "        return(datetime_object.month,datetime_object.hour,day_of_week)\n",
    "    \n",
    "    elif city == 'Chicago':\n",
    "        datetime_object2 = datetime.strptime((datum['starttime']),'%m/%d/%Y %H:%M')\n",
    "        month = int(datetime_object2.strftime('%m'))\n",
    "        hour = int(datetime_object2.strftime('%H'))\n",
    "        day_of_week = (datetime_object2.strftime('%A'))\n",
    "        return(datetime_object2.month,datetime_object2.hour,day_of_week)\n",
    "    \n",
    "    else:\n",
    "        datetime_object3 = datetime.strptime((datum['Start date']),'%m/%d/%Y %H:%M')\n",
    "        month = int(datetime_object3.strftime('%m'))\n",
    "        hour = int(datetime_object3.strftime('%H'))\n",
    "        day_of_week = (datetime_object3.strftime('%A'))\n",
    "        return(datetime_object3.month,datetime_object3.hour,day_of_week)\n",
    "    \n",
    "\n",
    "\n",
    "# Some tests to check that your code works. There should be no output if all of\n",
    "# the assertions pass. The `example_trips` dictionary was obtained from when\n",
    "# you printed the first trip from each of the original data files.\n",
    "tests = {'NYC': (1, 0, 'Friday'),\n",
    "         'Chicago': (3, 23, 'Thursday'),\n",
    "         'Washington': (3, 22, 'Thursday')}\n",
    "\n",
    "for city in tests:\n",
    "    assert time_of_trip(example_trips[city], city) == tests[city]"
   ]
  },
  {
   "cell_type": "code",
   "execution_count": 5,
   "metadata": {},
   "outputs": [],
   "source": [
    "def type_of_user(datum, city):\n",
    "    \"\"\"\n",
    "    Takes as input a dictionary containing info about a single trip (datum) and\n",
    "    its origin city (city) and returns the type of system user that made the\n",
    "    trip.\n",
    "    \n",
    "    Remember that Washington has different category names compared to Chicago\n",
    "    and NYC. \n",
    "    \"\"\"\n",
    "    \n",
    "    # YOUR CODE HERE\n",
    "    if city == 'Washington':\n",
    "        user_type = datum['Member Type']\n",
    "        if user_type == 'Registered':\n",
    "            user_type = 'Subscriber'\n",
    "        else:\n",
    "            user_type = 'Customer'\n",
    "    else:\n",
    "        user_type = datum['usertype']\n",
    "    return user_type\n",
    "\n",
    "\n",
    "\n",
    "# Some tests to check that your code works. There should be no output if all of\n",
    "# the assertions pass. The `example_trips` dictionary was obtained from when\n",
    "# you printed the first trip from each of the original data files.\n",
    "tests = {'NYC': 'Customer',\n",
    "         'Chicago': 'Subscriber',\n",
    "         'Washington': 'Subscriber'}\n",
    "\n",
    "for city in tests:\n",
    "    assert type_of_user(example_trips[city], city) == tests[city]"
   ]
  },
  {
   "cell_type": "markdown",
   "metadata": {},
   "source": [
    "**Question 3b**: Now, use the helper functions you wrote above to create a condensed data file for each city consisting only of the data fields indicated above. In the `/examples/` folder, you will see an example datafile from the [Bay Area Bike Share](http://www.bayareabikeshare.com/open-data) before and after conversion. Make sure that your output is formatted to be consistent with the example file."
   ]
  },
  {
   "cell_type": "code",
   "execution_count": 6,
   "metadata": {},
   "outputs": [],
   "source": [
    "def condense_data(in_file, out_file, city):\n",
    "    \"\"\"\n",
    "    This function takes full data from the specified input file\n",
    "    and writes the condensed data to a specified output file. The city\n",
    "    argument determines how the input file will be parsed.\n",
    "    \n",
    "    HINT: See the cell below to see how the arguments are structured!\n",
    "    \"\"\"\n",
    "    \n",
    "    with open(out_file, 'w') as f_out, open(in_file, 'r') as f_in:\n",
    "        # set up csv DictWriter object - writer requires column names for the\n",
    "        # first row as the \"fieldnames\" argument\n",
    "        out_colnames = ['duration', 'month', 'hour', 'day_of_week', 'user_type']        \n",
    "        trip_writer = csv.DictWriter(f_out, fieldnames = out_colnames)\n",
    "        trip_writer.writeheader()\n",
    "        \n",
    "        ## TODO: set up csv DictReader object ##\n",
    "        trip_reader = list(csv.DictReader(f_in))\n",
    "\n",
    "        # collect data from and process each row\n",
    "        for row in trip_reader:\n",
    "            # set up a dictionary to hold the values for the cleaned and trimmed\n",
    "            # data point\n",
    "            new_point = {}\n",
    "            \n",
    "            ## TODO: use the helper functions to get the cleaned data from  ##\n",
    "            ## the original data dictionaries.                              ##\n",
    "            ## Note that the keys for the new_point dictionary should match ##\n",
    "            ## the column names set in the DictWriter object above.         ##\n",
    "            new_point['duration'] = duration_in_mins(row, city)\n",
    "            new_point['month'] = time_of_trip(row, city)[0]\n",
    "            new_point['hour'] = time_of_trip(row, city)[1]\n",
    "            new_point['day_of_week'] = time_of_trip(row, city)[2]\n",
    "            new_point['user_type'] = type_of_user(row, city)\n",
    "\n",
    "            ## TODO: write the processed information to the output file.     ##\n",
    "            ## see https://docs.python.org/3/library/csv.html#writer-objects ##\n",
    "            trip_writer.writerow(new_point)\n",
    "            "
   ]
  },
  {
   "cell_type": "code",
   "execution_count": 7,
   "metadata": {},
   "outputs": [
    {
     "name": "stdout",
     "output_type": "stream",
     "text": [
      "\n",
      "City: Washington\n",
      "OrderedDict([('duration', '7.123116666666666'),\n",
      "             ('month', '3'),\n",
      "             ('hour', '22'),\n",
      "             ('day_of_week', 'Thursday'),\n",
      "             ('user_type', 'Subscriber')])\n",
      "\n",
      "City: Chicago\n",
      "OrderedDict([('duration', '15.433333333333334'),\n",
      "             ('month', '3'),\n",
      "             ('hour', '23'),\n",
      "             ('day_of_week', 'Thursday'),\n",
      "             ('user_type', 'Subscriber')])\n",
      "\n",
      "City: NYC\n",
      "OrderedDict([('duration', '13.983333333333333'),\n",
      "             ('month', '1'),\n",
      "             ('hour', '0'),\n",
      "             ('day_of_week', 'Friday'),\n",
      "             ('user_type', 'Customer')])\n"
     ]
    }
   ],
   "source": [
    "# Run this cell to check your work\n",
    "city_info = {'Washington': {'in_file': './data/Washington-CapitalBikeshare-2016.csv',\n",
    "                            'out_file': './data/Washington-2016-Summary.csv'},\n",
    "             'Chicago': {'in_file': './data/Chicago-Divvy-2016.csv',\n",
    "                         'out_file': './data/Chicago-2016-Summary.csv'},\n",
    "             'NYC': {'in_file': './data/NYC-CitiBike-2016.csv',\n",
    "                     'out_file': './data/NYC-2016-Summary.csv'}}\n",
    "\n",
    "for city, filenames in city_info.items():\n",
    "    condense_data(filenames['in_file'], filenames['out_file'], city)\n",
    "    print_first_point(filenames['out_file'])"
   ]
  },
  {
   "cell_type": "markdown",
   "metadata": {},
   "source": [
    "# > **Tip**: If you save a jupyter Notebook, the output from running code blocks will also be saved. However, the state of your workspace will be reset once a new session is started. Make sure that you run all of the necessary code blocks from your previous session to reestablish variables and functions before picking up where you last left off.\n",
    "\n",
    "<a id='eda'></a>\n",
    "## Exploratory Data Analysis\n",
    "\n",
    "Now that you have the data collected and wrangled, you're ready to start exploring the data. In this section you will write some code to compute descriptive statistics from the data. You will also be introduced to the `matplotlib` library to create some basic histograms of the data.\n",
    "\n",
    "<a id='statistics'></a>\n",
    "### Statistics\n",
    "\n",
    "First, let's compute some basic counts. The first cell below contains a function that uses the csv module to iterate through a provided data file, returning the number of trips made by subscribers and customers. The second cell runs this function on the example Bay Area data in the `/examples/` folder. Modify the cells to answer the question below.\n",
    "\n",
    "**Question 4a**: Which city has the highest number of trips? Which city has the highest proportion of trips made by subscribers? Which city has the highest proportion of trips made by short-term customers?\n",
    "\n",
    "**Answer**: 1- Which city has the highest number of trips?\n",
    "                A: NYC has the highest number of trips, with a total of 276798 trips.\n",
    "               ~\n",
    "            2- Which city has the highest proportion of trips made by subscribers?\n",
    "                A: NYC has the highest proportion of trips made by subscribers, which is around %88.84.\n",
    "               ~\n",
    "            3- Which city has the highest proportion of trips made by short-term customers?\n",
    "                A: With around %23.77, Chicago has the highest proportion of trips made by short-term customers."
   ]
  },
  {
   "cell_type": "code",
   "execution_count": 8,
   "metadata": {},
   "outputs": [],
   "source": [
    "def number_of_trips(filename):\n",
    "    \"\"\"\n",
    "    This function reads in a file with trip data and reports the total number of trips made.\n",
    "    \"\"\"\n",
    "    with open(filename, 'r') as f_in:\n",
    "        # set up csv reader object\n",
    "        reader = csv.DictReader(f_in)\n",
    "        \n",
    "        # initialize count variables\n",
    "        n_subscribers = 0\n",
    "        n_customers = 0\n",
    "        \n",
    "        # tally up trip types\n",
    "        for row in reader:\n",
    "            if row['user_type'] == 'Subscriber':\n",
    "                n_subscribers += 1\n",
    "            else:\n",
    "                n_customers += 1\n",
    "        \n",
    "        # compute total number of trips\n",
    "        n_total = n_subscribers + n_customers\n",
    "      \n",
    "        # return total number of trips \n",
    "        return n_total\n",
    "        \n",
    "        \n",
    "        \n",
    "def prop_of_subscribers_trips(filename):\n",
    "    \"\"\"\n",
    "    This function reads in a file with trip data and reports the proportion of trips made by subscribers.\n",
    "    \"\"\"\n",
    "    with open(filename, 'r') as f_in:\n",
    "        # set up csv reader object\n",
    "        reader = csv.DictReader(f_in)\n",
    "        \n",
    "        # initialize count variables\n",
    "        n_subscribers = 0\n",
    "        n_customers = 0\n",
    "        \n",
    "        # tally up trip types\n",
    "        for row in reader:\n",
    "            if row['user_type'] == 'Subscriber':\n",
    "                n_subscribers += 1\n",
    "            else:\n",
    "                n_customers += 1\n",
    "        \n",
    "        # compute total number of trips\n",
    "        n_total = n_subscribers + n_customers\n",
    "       \n",
    "        # compute and return the proportion of trips made by subscribers\n",
    "        prop_of_subscribers_trips = round(((n_subscribers / n_total) * 100), 2 )\n",
    "        return prop_of_subscribers_trips\n",
    "    \n",
    "    \n",
    "\n",
    "def prop_of_customers_trips(filename):\n",
    "    \"\"\"\n",
    "    This function uses the \"prop_of_subscribers_trips\" function to report the proportion of trips made by short-term customers.\n",
    "    \"\"\"\n",
    "    prop_of_customers_trips= round((100 -  prop_of_subscribers_trips(filename)), 2 )\n",
    "    return prop_of_customers_trips      "
   ]
  },
  {
   "cell_type": "code",
   "execution_count": 9,
   "metadata": {},
   "outputs": [
    {
     "name": "stdout",
     "output_type": "stream",
     "text": [
      "~ First, To answer the first part of Question 4a we need  to compare the following results: \n",
      "1- The total number of trips in Chicago is 72131 trips.\n",
      "2- The total number of trips in NYC is 276798 trips.\n",
      "3- The total number of trips in Washington is 66326 trips.\n",
      "@ @ @ @ @ @\n",
      "~ Second, To answer the second part of Question 4a we need  to compare the following results: \n",
      "1- The proportion of trips made by subscribers in Chicago is around %76.23.\n",
      "2- The proportion of trips made by subscribers in NYC is around %88.84.\n",
      "3- The proportion of trips made by subscribers in Washington is around %78.03.\n",
      "@ @ @ @ @ @\n",
      "~ Third, To answer the third part of Question 4a we need  to compare the following results: \n",
      "1- The proportion of trips made by short-term customers in Chicago is around 23.77%.\n",
      "2- The proportion of trips made by short-term customers in NYC is around 11.16%.\n",
      "3- The proportion of trips made by short-term customers in Washington is around 21.97%.\n"
     ]
    }
   ],
   "source": [
    "## Modify this and the previous cell to answer Question 4a. Remember to run ##\n",
    "## the function on the cleaned data files you created from Question 3.      ##\n",
    "\n",
    "print (\"~ First, To answer the first part of Question 4a we need  to compare the following results: \")\n",
    "data_file = './data/Chicago-2016-Summary.csv'\n",
    "print(\"1- The total number of trips in Chicago is {} trips.\".format(number_of_trips(data_file)))\n",
    "data_file = './data/NYC-2016-Summary.csv'\n",
    "print(\"2- The total number of trips in NYC is {} trips.\".format(number_of_trips(data_file)))\n",
    "data_file = './data/Washington-2016-Summary.csv'\n",
    "print(\"3- The total number of trips in Washington is {} trips.\".format(number_of_trips(data_file)))\n",
    "\n",
    "print ('@ @ @ @ @ @')\n",
    "\n",
    "print (\"~ Second, To answer the second part of Question 4a we need  to compare the following results: \")\n",
    "data_file = './data/Chicago-2016-Summary.csv'\n",
    "print(\"1- The proportion of trips made by subscribers in Chicago is around %{}.\".format(prop_of_subscribers_trips(data_file)))\n",
    "data_file = './data/NYC-2016-Summary.csv'\n",
    "print(\"2- The proportion of trips made by subscribers in NYC is around %{}.\".format(prop_of_subscribers_trips(data_file)))\n",
    "data_file = './data/Washington-2016-Summary.csv'\n",
    "print(\"3- The proportion of trips made by subscribers in Washington is around %{}.\".format(prop_of_subscribers_trips(data_file)))\n",
    "\n",
    "print ('@ @ @ @ @ @')\n",
    "\n",
    "print (\"~ Third, To answer the third part of Question 4a we need  to compare the following results: \")\n",
    "data_file = './data/Chicago-2016-Summary.csv'\n",
    "print(\"1- The proportion of trips made by short-term customers in Chicago is around {}%.\".format(prop_of_customers_trips(data_file)))\n",
    "data_file = './data/NYC-2016-Summary.csv'\n",
    "print(\"2- The proportion of trips made by short-term customers in NYC is around {}%.\".format(prop_of_customers_trips(data_file)))\n",
    "data_file = './data/Washington-2016-Summary.csv'\n",
    "print(\"3- The proportion of trips made by short-term customers in Washington is around {}%.\".format(prop_of_customers_trips(data_file)))\n"
   ]
  },
  {
   "cell_type": "markdown",
   "metadata": {},
   "source": [
    "# > **Tip**: In order to add additional cells to a notebook, you can use the \"Insert Cell Above\" and \"Insert Cell Below\" options from the menu bar above. There is also an icon in the toolbar for adding new cells, with additional icons for moving the cells up and down the document. By default, new cells are of the code type; you can also specify the cell type (e.g. Code or Markdown) of selected cells from the Cell menu or the dropdown in the toolbar.\n",
    "\n",
    "Now, you will write your own code to continue investigating properties of the data.\n",
    "\n",
    "**Question 4b**: Bike-share systems are designed for riders to take short trips. Most of the time, users are allowed to take trips of 30 minutes or less with no additional charges, with overage charges made for trips of longer than that duration. What is the average trip length for each city? What proportion of rides made in each city are longer than 30 minutes?\n",
    "\n",
    "**Answer**: What is the average trip length for each city? What proportion of rides made in each city are longer than 30 minutes?\n",
    "\n",
    "1- In Chicago,the average trip length is 17 minutes and 8.3% of the trips there are longer than 30 minutes.\n",
    "2- In NYC,the average trip length is 16 minutes and 7.3% of the trips there are longer than 30 minutes.\n",
    "3- In Washington,the average trip length is 19 minutes and 10.8% of the trips there are longer than 30 minutes.\n",
    "            "
   ]
  },
  {
   "cell_type": "code",
   "execution_count": 10,
   "metadata": {
    "scrolled": true
   },
   "outputs": [],
   "source": [
    "## Use this and additional cells to answer Question 4b.                 ##\n",
    "##                                                                      ##\n",
    "## HINT: The csv module reads in all of the data as strings, including  ##\n",
    "## numeric values. You will need a function to convert the strings      ##\n",
    "## into an appropriate numeric type before you aggregate data.          ##\n",
    "## TIP: For the Bay Area example, the average trip length is 14 minutes ##\n",
    "## and 3.5% of trips are longer than 30 minutes.                        ##\n",
    "\n",
    "    \n",
    "\n",
    "def avg_trip_length(filename):\n",
    "    \"\"\"\n",
    "    This function reads in a file with trip data and reports average trip length for the given city.\n",
    "    \"\"\"\n",
    "    with open(filename, 'r') as f_in:\n",
    "        # set up csv reader object\n",
    "        reader = csv.DictReader(f_in)\n",
    "        \n",
    "        # initialize calculations variables\n",
    "        total_trips_duration = 0\n",
    "        count_of_trips = 0\n",
    "        \n",
    "        # tally up the the total number of trips and the total duration(length) of all trips\n",
    "        # and compute and return the average trip length rounded it off to nearest integer\n",
    "        for row in reader:\n",
    "            total_trips_duration += float(row['duration'])\n",
    "            count_of_trips += 1\n",
    "            average_trip_length =round(total_trips_duration / count_of_trips)\n",
    "        return average_trip_length"
   ]
  },
  {
   "cell_type": "code",
   "execution_count": 11,
   "metadata": {},
   "outputs": [],
   "source": [
    "def prop_of_long_trips(filename):\n",
    "    \"\"\"\n",
    "    This function reads in a file with trip data and reports the proportion of rides that are longer than 30 minutes \n",
    "    in the given city.\n",
    "    \"\"\"\n",
    "    with open(filename, 'r') as f_in:\n",
    "        # set up csv reader object\n",
    "        reader = csv.DictReader(f_in)\n",
    "        \n",
    "        # initialize calculations variables\n",
    "        total_num_of_trips = 0 #total number of tips\n",
    "        count_of_trips = 0 #count of trips longer than 30 minutes\n",
    "        \n",
    "        # tally up the the total number of trips and count of trips longer than 30 minutes\n",
    "        # and compute and return the proportion of rides that are longer than 30 minutes rounded to 1 digit from the decimal point\n",
    "        for row in reader:\n",
    "            total_num_of_trips += 1\n",
    "            duration = float(row['duration'])\n",
    "            if duration > 30:\n",
    "                count_of_trips += 1\n",
    "            prop_of_long_trips =round((count_of_trips / total_num_of_trips)*100 , 1 )\n",
    "        return prop_of_long_trips"
   ]
  },
  {
   "cell_type": "code",
   "execution_count": 13,
   "metadata": {},
   "outputs": [
    {
     "name": "stdout",
     "output_type": "stream",
     "text": [
      " As an answer to Question 4b : \n",
      "1- In Chicago,the average trip length is 17 minutes, and 8.3% of Chicago trips are longer than 30 minutes.\n",
      "2- In NYC,the average trip length is 16 minutes, and 7.3% of NYC trips are longer than 30 minutes.\n",
      "3- In Washington,the average trip length is 19 minutes, and 10.8% of Washington trips are longer than 30 minutes.\n"
     ]
    }
   ],
   "source": [
    "print (\" As an answer to Question 4b : \")\n",
    "data_file = './data/Chicago-2016-Summary.csv'\n",
    "print(\"1- In Chicago,the average trip length is {} minutes, and {}% of Chicago trips are longer than 30 minutes.\".format(avg_trip_length(data_file), prop_of_long_trips(data_file)))\n",
    "data_file = './data/NYC-2016-Summary.csv'\n",
    "print(\"2- In NYC,the average trip length is {} minutes, and {}% of NYC trips are longer than 30 minutes.\".format(avg_trip_length(data_file), prop_of_long_trips(data_file)))\n",
    "data_file = './data/Washington-2016-Summary.csv'\n",
    "print(\"3- In Washington,the average trip length is {} minutes, and {}% of Washington trips are longer than 30 minutes.\".format(avg_trip_length(data_file), prop_of_long_trips(data_file)))"
   ]
  },
  {
   "cell_type": "markdown",
   "metadata": {},
   "source": [
    "**Question 4c**: Dig deeper into the question of trip duration based on ridership. Choose one city. Within that city, which type of user takes longer rides on average: Subscribers or Customers?\n",
    "\n",
    "**Answer**: In NYC,the average Subscriber trip duration is 13.7 minutes, while the average Customer trip duration is 33.0 minutes.It appears clearly that Customers take longer rides (on average) than Subscribers with a difference of 19.3 minutes."
   ]
  },
  {
   "cell_type": "code",
   "execution_count": 14,
   "metadata": {},
   "outputs": [],
   "source": [
    "## Use this and additional cells to answer Question 4c. If you have    ##\n",
    "## not done so yet, consider revising some of your previous code to    ##\n",
    "## make use of functions for reusability.                              ##\n",
    "##                                                                     ##\n",
    "## TIP: For the Bay Area example data, you should find the average     ##\n",
    "## Subscriber trip duration to be 9.5 minutes and the average Customer ##\n",
    "## trip duration to be 54.6 minutes. Do the other cities have this     ##\n",
    "## level of difference?                                                ##\n",
    "\n",
    "def avg_trips_lengths_s(filename):\n",
    "    \"\"\"\n",
    "    This function reads in a file with trip data and reports the average trips' lengths for subscribers\n",
    "    in a given city.\n",
    "    \"\"\"\n",
    "    with open(filename, 'r') as f_in:\n",
    "        # set up csv reader object\n",
    "        reader = csv.DictReader(f_in)\n",
    "        \n",
    "        # initialize count variables\n",
    "        n_trips = 0 # total number of subscibers' trips\n",
    "        total_trips_length = 0 # total trips' Lengths for subscribers\n",
    "        \n",
    "        # tally up  the subscribers' trips and its total lengths\n",
    "        for row in reader:\n",
    "            if row['user_type'] == 'Subscriber':\n",
    "                n_trips += 1\n",
    "                total_trips_length += float(row['duration'])\n",
    "            \n",
    "        #compute and return the average trips' lengths for subscribers rounded off to 1 digit from the decimal point   \n",
    "        avg_trips_lengths_s = round((total_trips_length / n_trips), 1)\n",
    "        return avg_trips_lengths_s"
   ]
  },
  {
   "cell_type": "code",
   "execution_count": 15,
   "metadata": {},
   "outputs": [],
   "source": [
    "def avg_trips_lengths_c(filename):\n",
    "    \"\"\"\n",
    "    This function reads in a file with trip data and reports the average trips' lengths for customers\n",
    "    in a given city.\n",
    "    \"\"\"\n",
    "    with open(filename, 'r') as f_in:\n",
    "        # set up csv reader object\n",
    "        reader = csv.DictReader(f_in)\n",
    "        \n",
    "        # initialize count variables\n",
    "        n_trips = 0 # total number of customers' trips\n",
    "        total_trips_length = 0 # total trips' Lengths for customers\n",
    "        \n",
    "        # tally up  the customers' trips and its total lengths\n",
    "        for row in reader:\n",
    "            if row['user_type'] == 'Customer':\n",
    "                n_trips += 1\n",
    "                total_trips_length += float(row['duration'])\n",
    "            \n",
    "        #compute and return the average trips' lengths for customers rounded off to 1 digit from the decimal point   \n",
    "        avg_trips_lengths_c =round((total_trips_length / n_trips), 1)\n",
    "        return avg_trips_lengths_c"
   ]
  },
  {
   "cell_type": "code",
   "execution_count": 17,
   "metadata": {},
   "outputs": [
    {
     "name": "stdout",
     "output_type": "stream",
     "text": [
      "In NYC,the average Subscriber trip duration is 13.7 minutes, while the average Customer trip duration is 33.0 minutes.\n",
      "It appears clearly that Customers take longer rides (on average) than Subscribers with a difference of 19.3 minutes.\n"
     ]
    }
   ],
   "source": [
    "filename = './data/NYC-2016-Summary.csv'\n",
    "\n",
    "#assigning the value returned from \"avg_trips_lengths_s\" function to \"average_trips_lengths_s\" variable\n",
    "average_trips_lengths_s = avg_trips_lengths_s(filename)\n",
    "\n",
    "#assigning the value returned from \"avg_trips_lengths_c\" function to \"average_trips_lengths_c\" variable\n",
    "average_trips_lengths_c = avg_trips_lengths_c(filename) \n",
    "\n",
    "print(\"In NYC,the average Subscriber trip duration is {} minutes, while the average Customer trip duration is {} minutes.\".format(average_trips_lengths_s, average_trips_lengths_c))\n",
    "\n",
    "#computing the difference between the average trips lengths for subcribers and customers \n",
    "if average_trips_lengths_s > average_trips_lengths_c:\n",
    "    difference = float(average_trips_lengths_s - average_trips_lengths_c)\n",
    "    print(\"It appears clearly that Subscribers take longer rides (on average) than Customers with a difference of {} minutes\".format(difference))\n",
    "else:\n",
    "    difference = float(average_trips_lengths_c - average_trips_lengths_s)\n",
    "    print(\"It appears clearly that Customers take longer rides (on average) than Subscribers with a difference of {} minutes.\".format(difference))   "
   ]
  },
  {
   "cell_type": "markdown",
   "metadata": {},
   "source": [
    "<a id='visualizations'></a>\n",
    "### Visualizations\n",
    "\n",
    "The last set of values that you computed should have pulled up an interesting result. While the mean trip time for Subscribers is well under 30 minutes, the mean trip time for Customers is actually _above_ 30 minutes! It will be interesting for us to look at how the trip times are distributed. In order to do this, a new library will be introduced here, `matplotlib`. Run the cell below to load the library and to generate an example plot."
   ]
  },
  {
   "cell_type": "code",
   "execution_count": 18,
   "metadata": {},
   "outputs": [
    {
     "data": {
      "image/png": "[encoded data removed]",
      "text/plain": [
       "<matplotlib.figure.Figure at 0x7f46e587c438>"
      ]
     },
     "metadata": {
      "needs_background": "light"
     },
     "output_type": "display_data"
    }
   ],
   "source": [
    "# load library\n",
    "import matplotlib.pyplot as plt\n",
    "\n",
    "# this is a 'magic word' that allows for plots to be displayed\n",
    "# inline with the notebook. If you want to know more, see:\n",
    "# http://ipython.readthedocs.io/en/stable/interactive/magics.html\n",
    "%matplotlib inline \n",
    "\n",
    "# example histogram, data taken from bay area sample\n",
    "data = [ 7.65,  8.92,  7.42,  5.50, 16.17,  4.20,  8.98,  9.62, 11.48, 14.33,\n",
    "        19.02, 21.53,  3.90,  7.97,  2.62,  2.67,  3.08, 14.40, 12.90,  7.83,\n",
    "        25.12,  8.30,  4.93, 12.43, 10.60,  6.17, 10.88,  4.78, 15.15,  3.53,\n",
    "         9.43, 13.32, 11.72,  9.85,  5.22, 15.10,  3.95,  3.17,  8.78,  1.88,\n",
    "         4.55, 12.68, 12.38,  9.78,  7.63,  6.45, 17.38, 11.90, 11.52,  8.63,]\n",
    "plt.hist(data)\n",
    "plt.title('Distribution of Trip Durations')\n",
    "plt.xlabel('Duration (m)')\n",
    "plt.show()"
   ]
  },
  {
   "cell_type": "markdown",
   "metadata": {},
   "source": [
    "In the above cell, we collected fifty trip times in a list, and passed this list as the first argument to the `.hist()` function. This function performs the computations and creates plotting objects for generating a histogram, but the plot is actually not rendered until the `.show()` function is executed. The `.title()` and `.xlabel()` functions provide some labeling for plot context.\n",
    "\n",
    "You will now use these functions to create a histogram of the trip times for the city you selected in question 4c. Don't separate the Subscribers and Customers for now: just collect all of the trip times and plot them."
   ]
  },
  {
   "cell_type": "code",
   "execution_count": 19,
   "metadata": {},
   "outputs": [],
   "source": [
    "## Use this and additional cells to collect all of the trip times as a list ##\n",
    "## and then use pyplot functions to generate a histogram of trip times.     ##\n",
    "\n",
    "filename = './data/NYC-2016-Summary.csv'\n",
    "\n",
    "with open(filename, 'r') as f_in:\n",
    "    # set up csv reader object\n",
    "    reader = csv.DictReader(f_in)\n",
    "        \n",
    "    # initialize list variable that will hold the data \n",
    "    hist_data =[]\n",
    "        \n",
    "    # appending values to the list \n",
    "    for row in reader:\n",
    "        hist_data.append(float(row['duration']))"
   ]
  },
  {
   "cell_type": "code",
   "execution_count": 20,
   "metadata": {},
   "outputs": [
    {
     "data": {
      "image/png": "[encoded data removed]",
      "text/plain": [
       "<matplotlib.figure.Figure at 0x7f46cc8f54e0>"
      ]
     },
     "metadata": {
      "needs_background": "light"
     },
     "output_type": "display_data"
    }
   ],
   "source": [
    "#creating Histogram from the previously created list \n",
    "\n",
    "plt.hist(hist_data, range =(0,80))\n",
    "plt.title('Distribution of Trip Durations (NYC)')\n",
    "plt.xlabel('Duration (m)')\n",
    "plt.ylabel('Frequency')\n",
    "plt.show()\n"
   ]
  },
  {
   "cell_type": "markdown",
   "metadata": {},
   "source": [
    "If you followed the use of the `.hist()` and `.show()` functions exactly like in the example, you're probably looking at a plot that's completely unexpected. The plot consists of one extremely tall bar on the left, maybe a very short second bar, and a whole lot of empty space in the center and right. Take a look at the duration values on the x-axis. This suggests that there are some highly infrequent outliers in the data. Instead of reprocessing the data, you will use additional parameters with the `.hist()` function to limit the range of data that is plotted. Documentation for the function can be found [[here]](https://matplotlib.org/devdocs/api/_as_gen/matplotlib.pyplot.hist.html#matplotlib.pyplot.hist).\n",
    "\n",
    "**Question 5**: Use the parameters of the `.hist()` function to plot the distribution of trip times for the Subscribers in your selected city. Do the same thing for only the Customers. Add limits to the plots so that only trips of duration less than 75 minutes are plotted. As a bonus, set the plots up so that bars are in five-minute wide intervals. For each group, where is the peak of each distribution? How would you describe the shape of each distribution?\n",
    "\n",
    "**Answer**:\n",
    "~ The Distribution’s Peak of Subscriber Trip Durations appears to be 5-10 minutes, where 84594 trips(30.6% ) of all subscribers’ trips fall within this range. \n",
    "As illustrated on the below histogram, the distribution’s peak is off center toward  the left tail with the right tail stretched away from it. This distribution is Right Skewed since the right tail of the histogram (larger values) is much longer than the left tail (small values ). The bulk of the subscribers trips’ lengths are short/medium, with a few trips that are much longer than the rest.\n",
    "\n",
    "\n",
    "~ The Distribution’s Peak of Customer Trip Durations appears to be 20-25 minutes where 5289 trips’ durations fall within this range. \n",
    "As presented on the below histogram , the distribution of the Customers Trip Times is Skewed Right on which the distribution’s peak is off center toward the left tail with the right tail stretched away from it, where the right tail of the histogram (larger values) is much longer than the left tail (small values).\n",
    "\n",
    "Most customers had trips that is considered within the low/medium range of trip durations (short/medium durations), with a few exceptions that are distributed along a large range (long “tail”) of longer rides. \n",
    "\n",
    "It is important to mention that the range of 15-20 minutes trips duration is considered the nearest range to the Distribution’s Peak of Customer Trip Durations (20-25 minutes),the nearest in terms of the number of trips, with only 68 trips less than the total number of trips falling within the Distribution  Peak’s range.            "
   ]
  },
  {
   "cell_type": "code",
   "execution_count": 38,
   "metadata": {},
   "outputs": [],
   "source": [
    "filename = './data/NYC-2016-Summary.csv' \n",
    "\n",
    "with open(filename, 'r') as f_in:\n",
    "    # set up csv reader object\n",
    "    reader = csv.DictReader(f_in)\n",
    "    \n",
    "    # initialize list variable that will hold the Trip Times for subscribers and another list for customers Trip Times in NYC\n",
    "    NYC_data_s =[]\n",
    "    NYC_data_c =[] \n",
    "    \n",
    "    # appending values to the lists \n",
    "    for row in reader:\n",
    "        if float(row['duration']) < 75: # only include the trips of duration less than 75 minutes\n",
    "            if row['user_type'] == 'Subscriber': # only include the trips done by a subscriber\n",
    "                NYC_data_s.append(float(row['duration']))\n",
    "            else: # only include the trips done by a customer\n",
    "                NYC_data_c.append(float(row['duration']))"
   ]
  },
  {
   "cell_type": "code",
   "execution_count": 39,
   "metadata": {},
   "outputs": [
    {
     "data": {
      "image/png": "[encoded data removed]",
      "text/plain": [
       "<matplotlib.figure.Figure at 0x7f46c60c7160>"
      ]
     },
     "metadata": {
      "needs_background": "light"
     },
     "output_type": "display_data"
    }
   ],
   "source": [
    "#creating Histogram to plot the distribution of trip times for Subscribers in NYC  \n",
    "\n",
    "plt.hist(NYC_data_s, bins= range(0,75,5))\n",
    "plt.title('Distribution of Subscriber Trip Durations (NYC)')\n",
    "plt.xlabel('Duration (m)')\n",
    "plt.ylabel('Frequency')\n",
    "plt.show()"
   ]
  },
  {
   "cell_type": "code",
   "execution_count": 40,
   "metadata": {},
   "outputs": [
    {
     "name": "stdout",
     "output_type": "stream",
     "text": [
      "The number of Subscribrs' trips that fall within the Distribution peak range (5-10) minutes is 84594 trips, which form 30.6% of the subscribers trips.\n"
     ]
    }
   ],
   "source": [
    "#The code in this cell is for Analysis puposes.\n",
    "#The following code is to tally up the number of subscribers' trips that fall within the Distribution peak range (5-10) minutes\n",
    "#and computes the proportion of trips falling within this range.\n",
    "with open(filename, 'r') as f_in:\n",
    "    # set up csv reader object\n",
    "    reader = csv.DictReader(f_in)\n",
    "    \n",
    "    #intializing counter variable\n",
    "    n_trips_peak = 0 #counts the number of trips that fall within the Distribution peak range\n",
    "    total_n_trips = 0 #counts the total number of suscrabers' trips\n",
    "       \n",
    "    for row in reader:\n",
    "        total_n_trips +=1\n",
    "        duration =  float(row['duration'])\n",
    "        if row['user_type'] == 'Subscriber' and (5 <= duration <= 10):\n",
    "            n_trips_peak += 1\n",
    "            \n",
    "    #initializing the variable tht will hold the proportion of trips falling within the peak's range and caculate this proportion         \n",
    "    prop_trips_peak = round(float((n_trips_peak/total_n_trips)*100) , 1)\n",
    "    \n",
    "    print (\"The number of Subscribrs' trips that fall within the Distribution peak range (5-10) minutes is {} trips, which form {}% of the subscribers trips.\".format(n_trips_peak,prop_trips_peak))"
   ]
  },
  {
   "cell_type": "code",
   "execution_count": 41,
   "metadata": {},
   "outputs": [
    {
     "data": {
      "image/png": "[encoded data removed]",
      "text/plain": [
       "<matplotlib.figure.Figure at 0x7f46c3294b70>"
      ]
     },
     "metadata": {
      "needs_background": "light"
     },
     "output_type": "display_data"
    }
   ],
   "source": [
    "#creating Histogram to plot the distribution of trip times for Customers in NYC (for trips of duration less than 75 minutes)\n",
    "\n",
    "plt.hist(NYC_data_c, bins= range(0,75,5))\n",
    "plt.title('Distribution of Customer Trip Durations (NYC)')\n",
    "plt.xlabel('Duration (m)')\n",
    "plt.ylabel('Frequency')\n",
    "plt.show()"
   ]
  },
  {
   "cell_type": "code",
   "execution_count": 42,
   "metadata": {},
   "outputs": [
    {
     "name": "stdout",
     "output_type": "stream",
     "text": [
      "The number of Customers' trips durations that fall within the Distribution peak range (20-25) minutes is 5289 trips.\n",
      "It is important to mention that: the range of trips duration (15-20) minutes was the second Distribution peak, with 5221 trips fall within this range.\n"
     ]
    }
   ],
   "source": [
    "#The code in this cell is for Analysis puposes.\n",
    "#The following code is to tally up the number of customers' trips that fall within the Distribution peak range (20-25)minutes\n",
    "#and the number of trips falling within the second peak range (15-20)minutes.\n",
    "\n",
    "with open(filename, 'r') as f_in:\n",
    "    # set up csv reader object\n",
    "    reader = csv.DictReader(f_in)\n",
    "    \n",
    "    #intializing counters variables\n",
    "    n_trips_peak = 0 #counts the number of trips that fall within the Distribution peak range\n",
    "    n_trips_closest_2_peak =0 #counts the number of trips that fall within closest range to the Distribution peak range\n",
    "       \n",
    "    for row in reader:\n",
    "        duration =  float(row['duration'])\n",
    "        if row['user_type'] == 'Customer' and (20 <= duration <= 25):\n",
    "            n_trips_peak += 1\n",
    "        elif row['user_type'] == 'Customer' and (15 <= duration < 20):\n",
    "            n_trips_closest_2_peak += 1\n",
    "            \n",
    "            \n",
    "    print(\"The number of Customers' trips durations that fall within the Distribution peak range (20-25) minutes is {} trips.\".format(n_trips_peak))\n",
    "    print(\"It is important to mention that: the range of trips duration (15-20) minutes was the second Distribution peak, with {} trips fall within this range.\".format(n_trips_closest_2_peak))"
   ]
  },
  {
   "cell_type": "markdown",
   "metadata": {
    "collapsed": true
   },
   "source": [
    "<a id='eda_continued'></a>\n",
    "## Performing Your Own Analysis\n",
    "\n",
    "So far, you've performed an initial exploration into the data available. You have compared the relative volume of trips made between three U.S. cities and the ratio of trips made by Subscribers and Customers. For one of these cities, you have investigated differences between Subscribers and Customers in terms of how long a typical trip lasts. Now it is your turn to continue the exploration in a direction that you choose. Here are a few suggestions for questions to explore:\n",
    "\n",
    "- How does ridership differ by month or season? Which month / season has the highest ridership? Does the ratio of Subscriber trips to Customer trips change depending on the month or season?\n",
    "- Is the pattern of ridership different on the weekends versus weekdays? On what days are Subscribers most likely to use the system? What about Customers? Does the average duration of rides change depending on the day of the week?\n",
    "- During what time of day is the system used the most? Is there a difference in usage patterns for Subscribers and Customers?\n",
    "\n",
    "If any of the questions you posed in your answer to question 1 align with the bullet points above, this is a good opportunity to investigate one of them. As part of your investigation, you will need to create a visualization. If you want to create something other than a histogram, then you might want to consult the [Pyplot documentation](https://matplotlib.org/devdocs/api/pyplot_summary.html). In particular, if you are plotting values across a categorical variable (e.g. city, user type), a bar chart will be useful. The [documentation page for `.bar()`](https://matplotlib.org/devdocs/api/_as_gen/matplotlib.pyplot.bar.html#matplotlib.pyplot.bar) includes links at the bottom of the page with examples for you to build off of for your own use.\n",
    "\n",
    "**Question 6**: Continue the investigation by exploring another question that could be answered by the data available. Document the question you want to explore below. Your investigation should involve at least two variables and should compare at least two groups. You should also use at least one visualization as part of your explorations.\n",
    "\n",
    "**Answer**: Question to be explored : On which day of the week the system used the most? Is there a difference in usage patterns for Subscribers and Customers?\n",
    "\n",
    "Answer : As shown in the below bar charts:\n",
    "\n",
    "For subscribers, the highest usage of the bike share system is on Wednesday followed by Thursday, with around 41400 trips and 41200 trips done on these days, respectively. Other weekdays have also high system usage with no less than 35500 trips a day. Subscribers' usage of the bike share system drops dramatically during weekends. with only 24454 trips, Sunday is having the least system usage among the other days of the week. From the previous analysis, subscribers might be using the bike share system in their transportation to and from their work locations.\n",
    "\n",
    "On the other hand, Customers have different usage pattern. Saturday is the day during which customers use the bike share system the most. The customers system usage during weekends is much higher than their usage during weekdays. The weekend system usage forms around 44% of the total usage throughout the week with more than 7000 trips made on Saturday and around 6800 trips done by customers on Sunday."
   ]
  },
  {
   "cell_type": "code",
   "execution_count": 43,
   "metadata": {},
   "outputs": [],
   "source": [
    "#creating a list to hold the days of the week and assigning it with the values\n",
    "day_of_week = []\n",
    "day_of_week.append('Saturday')\n",
    "day_of_week.append('Sunday')\n",
    "day_of_week.append('Monday')\n",
    "day_of_week.append('Tuesday')\n",
    "day_of_week.append('Wednesday')\n",
    "day_of_week.append('Thursday')\n",
    "day_of_week.append('Friday')"
   ]
  },
  {
   "cell_type": "code",
   "execution_count": 44,
   "metadata": {
    "scrolled": true
   },
   "outputs": [],
   "source": [
    "#creating a list to hold the total number of subscribers trips on each day of the week \n",
    "\n",
    "filename = './data/NYC-2016-Summary.csv' \n",
    "\n",
    "\n",
    "with open(filename, 'r') as f_in:\n",
    "    # set up csv reader object\n",
    "    reader = csv.DictReader(f_in)\n",
    "    \n",
    "    #intializing counters variables\n",
    "    Sat = 0 #counts the number of trips done by subscribers on Saturday\n",
    "    Sun = 0 #counts the number of trips done by subscribers on Sunday\n",
    "    Mon = 0 #counts the number of trips done by subscribers on Monday\n",
    "    Tues = 0 #counts the number of trips done by subscribers on Tuesday\n",
    "    Wed = 0 #counts the number of trips done by subscribers on Wednesday\n",
    "    Thurs = 0 #counts the number of trips done by subscribers on Thursday\n",
    "    Fri = 0 #counts the number of trips done by subscribers on Friday\n",
    "\n",
    "    for row in reader:\n",
    "        if row['user_type'] == 'Subscriber':\n",
    "            if row['day_of_week'] == 'Saturday':\n",
    "                Sat += 1\n",
    "            elif row['day_of_week'] == 'Sunday':\n",
    "                Sun += 1\n",
    "            elif row['day_of_week'] == 'Monday':\n",
    "                Mon += 1\n",
    "            elif row['day_of_week'] == 'Tuesday':\n",
    "                Tues += 1\n",
    "            elif row['day_of_week'] == 'Wednesday':\n",
    "                Wed += 1\n",
    "            elif row['day_of_week'] == 'Thursday':\n",
    "                Thurs += 1\n",
    "            else:\n",
    "                Fri += 1\n",
    "    \n",
    "    ##creating a list to hold the total number of subscribers trips on each day of the week\n",
    "    num_trips_s =[]\n",
    "    num_trips_s.append(Sat)\n",
    "    num_trips_s.append(Sun)\n",
    "    num_trips_s.append(Mon)\n",
    "    num_trips_s.append(Tues)\n",
    "    num_trips_s.append(Wed)\n",
    "    num_trips_s.append(Thurs)\n",
    "    num_trips_s.append(Fri)"
   ]
  },
  {
   "cell_type": "code",
   "execution_count": 45,
   "metadata": {},
   "outputs": [
    {
     "name": "stdout",
     "output_type": "stream",
     "text": [
      "The number of trips done by subscribers during the week is as follows:\n",
      "1- On Saturday: 26126 trips done.\n",
      "2- On Sunday: 24454 trips done.\n",
      "3- On Monday: 35623 trips done.\n",
      "4- On Tuesday: 39487 trips done.\n",
      "5- On Wednesday: 41403 trips done.\n",
      "6- On Thursday: 41197 trips done.\n",
      "7- On Friday: 37606 trips done.\n"
     ]
    }
   ],
   "source": [
    "#The code in this cell is for Analysis puposes.\n",
    "print ('The number of trips done by subscribers during the week is as follows:')\n",
    "print ('1- On Saturday: {} trips done.'.format(Sat))\n",
    "print ('2- On Sunday: {} trips done.'.format(Sun))\n",
    "print ('3- On Monday: {} trips done.'.format(Mon))\n",
    "print ('4- On Tuesday: {} trips done.'.format(Tues))\n",
    "print ('5- On Wednesday: {} trips done.'.format(Wed))\n",
    "print ('6- On Thursday: {} trips done.'.format(Thurs))\n",
    "print ('7- On Friday: {} trips done.'.format(Fri))"
   ]
  },
  {
   "cell_type": "code",
   "execution_count": 46,
   "metadata": {},
   "outputs": [
    {
     "data": {
      "image/png": "[encoded data removed]",
      "text/plain": [
       "<matplotlib.figure.Figure at 0x7f46e595f240>"
      ]
     },
     "metadata": {
      "needs_background": "light"
     },
     "output_type": "display_data"
    }
   ],
   "source": [
    "#ploting the Subscribers Trips along the Week Days in NYC using Bar Chart\n",
    "index = np.arange(len(day_of_week))\n",
    "plt.bar(index, num_trips_s, color='r')\n",
    "plt.xlabel('Day',fontsize=12)\n",
    "plt.ylabel('Number of Trips',fontsize=12)\n",
    "plt.xticks(index, day_of_week, rotation=30) \n",
    "#day of week will be placed on each tick that is generated due to index sequence\n",
    "plt.title('Subscribers Trips along the Week Days (NYC)',fontsize=15)\n",
    "plt.show()"
   ]
  },
  {
   "cell_type": "code",
   "execution_count": 47,
   "metadata": {},
   "outputs": [],
   "source": [
    "# create the list that will hold the total number of customers trips on each day of the week\n",
    "\n",
    "filename = './data/NYC-2016-Summary.csv' \n",
    "\n",
    "\n",
    "with open(filename, 'r') as f_in:\n",
    "    # set up csv reader object\n",
    "    reader = csv.DictReader(f_in)\n",
    "    \n",
    "    #intializing counters variables\n",
    "    Sat = 0 #counts the number of trips done by customers on Saturday\n",
    "    Sun = 0 #counts the number of trips done by customers on Sunday\n",
    "    Mon = 0 #counts the number of trips done by customers on Monday\n",
    "    Tues = 0 #counts the number of trips done by customers on Tuesday\n",
    "    Wed = 0 #counts the number of trips done by customers on Wednesday\n",
    "    Thurs = 0 #counts the number of trips done by customers on Thursday\n",
    "    Fri = 0 #counts the number of trips done by customers on Friday\n",
    "\n",
    "    for row in reader:\n",
    "        if row['user_type'] == 'Customer':\n",
    "            if row['day_of_week'] == 'Saturday':\n",
    "                Sat += 1\n",
    "            elif row['day_of_week'] == 'Sunday':\n",
    "                Sun += 1\n",
    "            elif row['day_of_week'] == 'Monday':\n",
    "                Mon += 1\n",
    "            elif row['day_of_week'] == 'Tuesday':\n",
    "                Tues += 1\n",
    "            elif row['day_of_week'] == 'Wednesday':\n",
    "                Wed += 1\n",
    "            elif row['day_of_week'] == 'Thursday':\n",
    "                Thurs += 1\n",
    "            else:\n",
    "                Fri += 1\n",
    "    \n",
    "    ##creating a list to hold the total number of customers trips on each day of the week\n",
    "    num_trips_c =[]\n",
    "    num_trips_c.append(Sat)\n",
    "    num_trips_c.append(Sun)\n",
    "    num_trips_c.append(Mon)\n",
    "    num_trips_c.append(Tues)\n",
    "    num_trips_c.append(Wed)\n",
    "    num_trips_c.append(Thurs)\n",
    "    num_trips_c.append(Fri)"
   ]
  },
  {
   "cell_type": "code",
   "execution_count": 48,
   "metadata": {},
   "outputs": [
    {
     "name": "stdout",
     "output_type": "stream",
     "text": [
      "The number of trips done by customers during the week is as follows:\n",
      "1- On Saturday: 7069 trips done.\n",
      "2- On Sunday: 6776 trips done.\n",
      "3- On Monday: 3620 trips done.\n",
      "4- On Tuesday: 2833 trips done.\n",
      "5- On Wednesday: 3152 trips done.\n",
      "6- On Thursday: 3065 trips done.\n",
      "7- On Friday: 3670 trips done.\n"
     ]
    }
   ],
   "source": [
    "#The code in this cell is for Analysis puposes.\n",
    "print ('The number of trips done by customers during the week is as follows:')\n",
    "print ('1- On Saturday: {} trips done.'.format(Sat))\n",
    "print ('2- On Sunday: {} trips done.'.format(Sun))\n",
    "print ('3- On Monday: {} trips done.'.format(Mon))\n",
    "print ('4- On Tuesday: {} trips done.'.format(Tues))\n",
    "print ('5- On Wednesday: {} trips done.'.format(Wed))\n",
    "print ('6- On Thursday: {} trips done.'.format(Thurs))\n",
    "print ('7- On Friday: {} trips done.'.format(Fri))"
   ]
  },
  {
   "cell_type": "code",
   "execution_count": 49,
   "metadata": {},
   "outputs": [
    {
     "data": {
      "image/png": "[encoded data removed]",
      "text/plain": [
       "<matplotlib.figure.Figure at 0x7f46c30854a8>"
      ]
     },
     "metadata": {
      "needs_background": "light"
     },
     "output_type": "display_data"
    }
   ],
   "source": [
    "#ploting the Customers Trips along the Week Days in NYC using Bar Chart\n",
    "index = np.arange(len(day_of_week))\n",
    "plt.bar(index, num_trips_c, color='c')\n",
    "plt.xlabel('Day',fontsize=12)\n",
    "plt.ylabel('Number of Trips',fontsize=12)\n",
    "plt.xticks(index, day_of_week, rotation=30) \n",
    "#day of week will be placed on each tick that is generated due to index sequence\n",
    "plt.title('Customers Trips along the Week Days (NYC)',fontsize=15)\n",
    "plt.show()"
   ]
  },
  {
   "cell_type": "markdown",
   "metadata": {},
   "source": [
    "<a id='conclusions'></a>\n",
    "## Conclusions\n",
    "\n",
    "Congratulations on completing the project! This is only a sampling of the data analysis process: from generating questions, wrangling the data, and to exploring the data. Normally, at this point in the data analysis process, you might want to draw conclusions about the data by performing a statistical test or fitting the data to a model for making predictions. There are also a lot of potential analyses that could be performed on the data which are not possible with only the data provided. For example, detailed location data has not been investigated. Where are the most commonly used docks? What are the most common routes? As another example, weather has potential to have a large impact on daily ridership. How much is ridership impacted when there is rain or snow? Are subscribers or customers affected more by changes in weather?\n",
    "\n",
    "**Question 7**: Putting the bike share data aside, think of a topic or field of interest where you would like to be able to apply the techniques of data science. What would you like to be able to learn from your chosen subject?\n",
    "\n",
    "**Answer**:\n",
    "\n",
    "Weather forecasting and weather predictions are good fields to apply different data analysis techniques.\n",
    "\n",
    "Having the weather data for a sufficient number of years in given area, would surly allow me as (a data analyst) to analyze the data and predict which days of the year :\n",
    "1- Might have the highest level of humidity. \n",
    "2- Might had dramatic drop in temperature levels.\n",
    "3- Are most likely to get high levels of rain.\n",
    "4- Would had the highest temperature levels during Summer.\n",
    "\n",
    "This analysis could be useful for all the community members,not only specialists, since:\n",
    "1- Weather prediction allows people to plan their trips and avoid being exposed to high temperatures and humidity.\n",
    "2- It also could help people plan their important events, such as wedding parties and outdoor carnivals, by trying to avoid the days that had high expectations of having rain.\n",
    "\n",
    "\n",
    "\n",
    "\n",
    "\n",
    "> **Tip**: If we want to share the results of our analysis with others, we aren't limited to giving them a copy of the jupyter Notebook (.ipynb) file. We can also export the Notebook output in a form that can be opened even for those without Python installed. From the **File** menu in the upper left, go to the **Download as** submenu. You can then choose a different format that can be viewed more generally, such as HTML (.html) or\n",
    "PDF (.pdf). You may need additional packages or software to perform these exports.\n",
    "\n",
    "> If you are working on this project via the Project Notebook page in the classroom, you can also submit this project directly from the workspace. **Before you do that**, you should save an HTML copy of the completed project to the workspace by running the code cell below. If it worked correctly, the output code should be a 0, and if you click on the jupyter icon in the upper left, you should see your .html document in the workspace directory. Alternatively, you can download the .html copy of your report following the steps in the previous paragraph, then _upload_ the report to the directory (by clicking the jupyter icon).\n",
    "\n",
    "> Either way, once you've gotten the .html report in your workspace, you can complete your submission by clicking on the \"Submit Project\" button to the lower-right hand side of the workspace."
   ]
  },
  {
   "cell_type": "code",
   "execution_count": 50,
   "metadata": {},
   "outputs": [
    {
     "data": {
      "text/plain": [
       "0"
      ]
     },
     "execution_count": 50,
     "metadata": {},
     "output_type": "execute_result"
    }
   ],
   "source": [
    "from subprocess import call\n",
    "call(['python', '-m', 'nbconvert', 'Bike_Share_Analysis.ipynb'])"
   ]
  }
 ],
 "metadata": {
  "anaconda-cloud": {},
  "kernelspec": {
   "display_name": "Python 3",
   "language": "python",
   "name": "python3"
  },
  "language_info": {
   "codemirror_mode": {
    "name": "ipython",
    "version": 3
   },
   "file_extension": ".py",
   "mimetype": "text/x-python",
   "name": "python",
   "nbconvert_exporter": "python",
   "pygments_lexer": "ipython3",
   "version": "3.6.3"
  }
 },
 "nbformat": 4,
 "nbformat_minor": 1
}
